{
 "cells": [
  {
   "cell_type": "markdown",
   "id": "b4540ef4",
   "metadata": {},
   "source": [
    "Import Packages"
   ]
  },
  {
   "cell_type": "code",
   "execution_count": 7,
   "id": "c468c73a",
   "metadata": {},
   "outputs": [],
   "source": [
    "import numpy as np\n",
    "import pandas as pd\n",
    "import matplotlib.pyplot as plt\n",
    "import seaborn as sns\n",
    "import os, json, math, time\n",
    "from yelpapi import YelpAPI\n",
    "from tqdm.notebook import tqdm_notebook"
   ]
  },
  {
   "cell_type": "markdown",
   "id": "dc19e5e4",
   "metadata": {},
   "source": [
    "Create the Yelp Client"
   ]
  },
  {
   "cell_type": "code",
   "execution_count": 8,
   "id": "73ec9193",
   "metadata": {},
   "outputs": [
    {
     "data": {
      "text/plain": [
       "dict_keys(['client-id', 'api-key'])"
      ]
     },
     "execution_count": 8,
     "metadata": {},
     "output_type": "execute_result"
    }
   ],
   "source": [
    "with open('C:/Users/ryan/.secret/yelp_api.json') as f: \n",
    "    login = json.load(f)\n",
    "login.keys()"
   ]
  },
  {
   "cell_type": "code",
   "execution_count": 12,
   "id": "7783e857",
   "metadata": {},
   "outputs": [
    {
     "data": {
      "text/plain": [
       "<yelpapi.yelpapi.YelpAPI at 0x19a23aeba60>"
      ]
     },
     "execution_count": 12,
     "metadata": {},
     "output_type": "execute_result"
    }
   ],
   "source": [
    "from yelpapi import YelpAPI\n",
    "yelp = YelpAPI(login['api-key'], timeout_s=5.0)\n",
    "yelp"
   ]
  },
  {
   "cell_type": "markdown",
   "id": "790c224b",
   "metadata": {},
   "source": [
    "Make the file path for the json file"
   ]
  },
  {
   "cell_type": "code",
   "execution_count": 13,
   "id": "c1b689b5",
   "metadata": {},
   "outputs": [],
   "source": [
    "def add_results(file_name,location,term):\n",
    "  try:\n",
    "    os.makedirs(\"./data/\")\n",
    "  except:\n",
    "    pass\n",
    "  path = f\"./data/{file_name}\"\n",
    "  try:\n",
    "    with open(path,\"r\") as f:\n",
    "      results = json.load(f)\n",
    "  except:\n",
    "    print(\"Initializing new file as empty list\")\n",
    "    with open(path,\"w\") as f:\n",
    "      f.writelines([\"[]\"])\n",
    "      results = []\n",
    "  new_results = yelp.search_query(location=location,\n",
    "                                  term=term,\n",
    "                                  offset=len(results))\n",
    "  page_amount = len(new_results[\"businesses\"])\n",
    "  num_pages = math.ceil((new_results[\"total\"] - len(results)) / page_amount)\n",
    "  for i in tqdm_notebook(range(num_pages)):\n",
    "    time.sleep(0.2)\n",
    "    with open(path,\"w\") as f:\n",
    "      results.extend(new_results[\"businesses\"])\n",
    "      json.dump(results,f)\n",
    "      new_results = yelp.search_query(location=location,\n",
    "                                  term=term,\n",
    "                                  offset=len(results))\n",
    "  return results"
   ]
  },
  {
   "cell_type": "code",
   "execution_count": 14,
   "id": "aaa49c07",
   "metadata": {},
   "outputs": [
    {
     "data": {
      "application/vnd.jupyter.widget-view+json": {
       "model_id": "696e42ff9c354251b7aeb88d83ebf8fa",
       "version_major": 2,
       "version_minor": 0
      },
      "text/plain": [
       "  0%|          | 0/2 [00:00<?, ?it/s]"
      ]
     },
     "metadata": {},
     "output_type": "display_data"
    },
    {
     "data": {
      "text/plain": [
       "5"
      ]
     },
     "execution_count": 14,
     "metadata": {},
     "output_type": "execute_result"
    }
   ],
   "source": [
    "len(add_results(\"results.json\",\"03301\",\"Restauraunt\"))"
   ]
  },
  {
   "cell_type": "code",
   "execution_count": 15,
   "id": "2334694c",
   "metadata": {},
   "outputs": [
    {
     "data": {
      "application/vnd.jupyter.widget-view+json": {
       "model_id": "184640c272914facbc95b7b12d8da153",
       "version_major": 2,
       "version_minor": 0
      },
      "text/plain": [
       "  0%|          | 0/7 [00:00<?, ?it/s]"
      ]
     },
     "metadata": {},
     "output_type": "display_data"
    },
    {
     "data": {
      "text/plain": [
       "142"
      ]
     },
     "execution_count": 15,
     "metadata": {},
     "output_type": "execute_result"
    }
   ],
   "source": [
    "len(add_results(\"results.json\",\"03301\",\"Fast Food\"))"
   ]
  },
  {
   "cell_type": "markdown",
   "id": "8a2546a4",
   "metadata": {},
   "source": [
    "Export it to a dataframe"
   ]
  },
  {
   "cell_type": "code",
   "execution_count": 16,
   "id": "40bbce27",
   "metadata": {},
   "outputs": [
    {
     "data": {
      "text/html": [
       "<div>\n",
       "<style scoped>\n",
       "    .dataframe tbody tr th:only-of-type {\n",
       "        vertical-align: middle;\n",
       "    }\n",
       "\n",
       "    .dataframe tbody tr th {\n",
       "        vertical-align: top;\n",
       "    }\n",
       "\n",
       "    .dataframe thead th {\n",
       "        text-align: right;\n",
       "    }\n",
       "</style>\n",
       "<table border=\"1\" class=\"dataframe\">\n",
       "  <thead>\n",
       "    <tr style=\"text-align: right;\">\n",
       "      <th></th>\n",
       "      <th>id</th>\n",
       "      <th>alias</th>\n",
       "      <th>name</th>\n",
       "      <th>image_url</th>\n",
       "      <th>is_closed</th>\n",
       "      <th>url</th>\n",
       "      <th>review_count</th>\n",
       "      <th>categories</th>\n",
       "      <th>rating</th>\n",
       "      <th>coordinates</th>\n",
       "      <th>transactions</th>\n",
       "      <th>price</th>\n",
       "      <th>location</th>\n",
       "      <th>phone</th>\n",
       "      <th>display_phone</th>\n",
       "      <th>distance</th>\n",
       "    </tr>\n",
       "  </thead>\n",
       "  <tbody>\n",
       "    <tr>\n",
       "      <th>0</th>\n",
       "      <td>325O-8LwokWqf2eMk6GDdg</td>\n",
       "      <td>cafe-dejavu-laconia</td>\n",
       "      <td>Cafe Dejavu</td>\n",
       "      <td>https://s3-media2.fl.yelpcdn.com/bphoto/AxRXMN...</td>\n",
       "      <td>False</td>\n",
       "      <td>https://www.yelp.com/biz/cafe-dejavu-laconia?a...</td>\n",
       "      <td>28</td>\n",
       "      <td>[{'alias': 'breakfast_brunch', 'title': 'Break...</td>\n",
       "      <td>4.5</td>\n",
       "      <td>{'latitude': 43.51969, 'longitude': -71.47842}</td>\n",
       "      <td>[delivery]</td>\n",
       "      <td>$</td>\n",
       "      <td>{'address1': '311 Court St', 'address2': '', '...</td>\n",
       "      <td>+16035247773</td>\n",
       "      <td>(603) 524-7773</td>\n",
       "      <td>32692.788372</td>\n",
       "    </tr>\n",
       "    <tr>\n",
       "      <th>1</th>\n",
       "      <td>1MolS8YPGNPa7VpGa9bCaw</td>\n",
       "      <td>chez-vachon-manchester-2</td>\n",
       "      <td>Chez Vachon</td>\n",
       "      <td>https://s3-media1.fl.yelpcdn.com/bphoto/ED9Po0...</td>\n",
       "      <td>False</td>\n",
       "      <td>https://www.yelp.com/biz/chez-vachon-mancheste...</td>\n",
       "      <td>182</td>\n",
       "      <td>[{'alias': 'breakfast_brunch', 'title': 'Break...</td>\n",
       "      <td>4.0</td>\n",
       "      <td>{'latitude': 42.995131, 'longitude': -71.4784426}</td>\n",
       "      <td>[delivery]</td>\n",
       "      <td>$$</td>\n",
       "      <td>{'address1': '136 Kelley St', 'address2': '', ...</td>\n",
       "      <td>+16036259660</td>\n",
       "      <td>(603) 625-9660</td>\n",
       "      <td>26706.942701</td>\n",
       "    </tr>\n",
       "    <tr>\n",
       "      <th>2</th>\n",
       "      <td>YGnLkxzScbYaE3aUcoe9Sw</td>\n",
       "      <td>the-friendly-toast-bedford-bedford</td>\n",
       "      <td>The Friendly Toast - Bedford</td>\n",
       "      <td>https://s3-media2.fl.yelpcdn.com/bphoto/Rax_xc...</td>\n",
       "      <td>False</td>\n",
       "      <td>https://www.yelp.com/biz/the-friendly-toast-be...</td>\n",
       "      <td>21</td>\n",
       "      <td>[{'alias': 'breakfast_brunch', 'title': 'Break...</td>\n",
       "      <td>4.0</td>\n",
       "      <td>{'latitude': 42.95311789420777, 'longitude': -...</td>\n",
       "      <td>[]</td>\n",
       "      <td>$$</td>\n",
       "      <td>{'address1': '125 S River Rd', 'address2': '',...</td>\n",
       "      <td>+16038366238</td>\n",
       "      <td>(603) 836-6238</td>\n",
       "      <td>31313.834542</td>\n",
       "    </tr>\n",
       "    <tr>\n",
       "      <th>3</th>\n",
       "      <td>9uq7-JcV9txvjQfdJunqlg</td>\n",
       "      <td>masa-japanese-hibachi-manchester</td>\n",
       "      <td>Masa Japanese Hibachi</td>\n",
       "      <td>https://s3-media1.fl.yelpcdn.com/bphoto/Jaslcz...</td>\n",
       "      <td>False</td>\n",
       "      <td>https://www.yelp.com/biz/masa-japanese-hibachi...</td>\n",
       "      <td>267</td>\n",
       "      <td>[{'alias': 'sushi', 'title': 'Sushi Bars'}, {'...</td>\n",
       "      <td>3.5</td>\n",
       "      <td>{'latitude': 42.9511990944588, 'longitude': -7...</td>\n",
       "      <td>[delivery]</td>\n",
       "      <td>$$</td>\n",
       "      <td>{'address1': '1707 S Willow St', 'address2': '...</td>\n",
       "      <td>+16036269888</td>\n",
       "      <td>(603) 626-9888</td>\n",
       "      <td>32291.539934</td>\n",
       "    </tr>\n",
       "    <tr>\n",
       "      <th>4</th>\n",
       "      <td>jF60uUlmvSflv8c4zvk0iQ</td>\n",
       "      <td>fratellos-restaurants-manchester</td>\n",
       "      <td>Fratellos Restaurants</td>\n",
       "      <td>https://s3-media4.fl.yelpcdn.com/bphoto/kHHpAW...</td>\n",
       "      <td>False</td>\n",
       "      <td>https://www.yelp.com/biz/fratellos-restaurants...</td>\n",
       "      <td>227</td>\n",
       "      <td>[{'alias': 'italian', 'title': 'Italian'}, {'a...</td>\n",
       "      <td>3.0</td>\n",
       "      <td>{'latitude': 42.99847587538801, 'longitude': -...</td>\n",
       "      <td>[delivery]</td>\n",
       "      <td>$$</td>\n",
       "      <td>{'address1': '155 Dow St', 'address2': '', 'ad...</td>\n",
       "      <td>+16036242022</td>\n",
       "      <td>(603) 624-2022</td>\n",
       "      <td>26542.546007</td>\n",
       "    </tr>\n",
       "  </tbody>\n",
       "</table>\n",
       "</div>"
      ],
      "text/plain": [
       "                       id                               alias  \\\n",
       "0  325O-8LwokWqf2eMk6GDdg                 cafe-dejavu-laconia   \n",
       "1  1MolS8YPGNPa7VpGa9bCaw            chez-vachon-manchester-2   \n",
       "2  YGnLkxzScbYaE3aUcoe9Sw  the-friendly-toast-bedford-bedford   \n",
       "3  9uq7-JcV9txvjQfdJunqlg    masa-japanese-hibachi-manchester   \n",
       "4  jF60uUlmvSflv8c4zvk0iQ    fratellos-restaurants-manchester   \n",
       "\n",
       "                           name  \\\n",
       "0                   Cafe Dejavu   \n",
       "1                   Chez Vachon   \n",
       "2  The Friendly Toast - Bedford   \n",
       "3         Masa Japanese Hibachi   \n",
       "4         Fratellos Restaurants   \n",
       "\n",
       "                                           image_url  is_closed  \\\n",
       "0  https://s3-media2.fl.yelpcdn.com/bphoto/AxRXMN...      False   \n",
       "1  https://s3-media1.fl.yelpcdn.com/bphoto/ED9Po0...      False   \n",
       "2  https://s3-media2.fl.yelpcdn.com/bphoto/Rax_xc...      False   \n",
       "3  https://s3-media1.fl.yelpcdn.com/bphoto/Jaslcz...      False   \n",
       "4  https://s3-media4.fl.yelpcdn.com/bphoto/kHHpAW...      False   \n",
       "\n",
       "                                                 url  review_count  \\\n",
       "0  https://www.yelp.com/biz/cafe-dejavu-laconia?a...            28   \n",
       "1  https://www.yelp.com/biz/chez-vachon-mancheste...           182   \n",
       "2  https://www.yelp.com/biz/the-friendly-toast-be...            21   \n",
       "3  https://www.yelp.com/biz/masa-japanese-hibachi...           267   \n",
       "4  https://www.yelp.com/biz/fratellos-restaurants...           227   \n",
       "\n",
       "                                          categories  rating  \\\n",
       "0  [{'alias': 'breakfast_brunch', 'title': 'Break...     4.5   \n",
       "1  [{'alias': 'breakfast_brunch', 'title': 'Break...     4.0   \n",
       "2  [{'alias': 'breakfast_brunch', 'title': 'Break...     4.0   \n",
       "3  [{'alias': 'sushi', 'title': 'Sushi Bars'}, {'...     3.5   \n",
       "4  [{'alias': 'italian', 'title': 'Italian'}, {'a...     3.0   \n",
       "\n",
       "                                         coordinates transactions price  \\\n",
       "0     {'latitude': 43.51969, 'longitude': -71.47842}   [delivery]     $   \n",
       "1  {'latitude': 42.995131, 'longitude': -71.4784426}   [delivery]    $$   \n",
       "2  {'latitude': 42.95311789420777, 'longitude': -...           []    $$   \n",
       "3  {'latitude': 42.9511990944588, 'longitude': -7...   [delivery]    $$   \n",
       "4  {'latitude': 42.99847587538801, 'longitude': -...   [delivery]    $$   \n",
       "\n",
       "                                            location         phone  \\\n",
       "0  {'address1': '311 Court St', 'address2': '', '...  +16035247773   \n",
       "1  {'address1': '136 Kelley St', 'address2': '', ...  +16036259660   \n",
       "2  {'address1': '125 S River Rd', 'address2': '',...  +16038366238   \n",
       "3  {'address1': '1707 S Willow St', 'address2': '...  +16036269888   \n",
       "4  {'address1': '155 Dow St', 'address2': '', 'ad...  +16036242022   \n",
       "\n",
       "    display_phone      distance  \n",
       "0  (603) 524-7773  32692.788372  \n",
       "1  (603) 625-9660  26706.942701  \n",
       "2  (603) 836-6238  31313.834542  \n",
       "3  (603) 626-9888  32291.539934  \n",
       "4  (603) 624-2022  26542.546007  "
      ]
     },
     "execution_count": 16,
     "metadata": {},
     "output_type": "execute_result"
    }
   ],
   "source": [
    "df = pd.read_json(\"./data/results.json\")\n",
    "df.head()"
   ]
  },
  {
   "cell_type": "code",
   "execution_count": 17,
   "id": "3b4e297b",
   "metadata": {},
   "outputs": [
    {
     "data": {
      "text/plain": [
       "0"
      ]
     },
     "execution_count": 17,
     "metadata": {},
     "output_type": "execute_result"
    }
   ],
   "source": [
    "df.duplicated(subset=[\"id\"]).sum()"
   ]
  },
  {
   "cell_type": "code",
   "execution_count": 18,
   "id": "d6778676",
   "metadata": {},
   "outputs": [],
   "source": [
    "df.to_csv(\"./data/results.csv.gz\", compression=\"gzip\", index = False)"
   ]
  },
  {
   "cell_type": "code",
   "execution_count": null,
   "id": "7300bd78",
   "metadata": {},
   "outputs": [],
   "source": []
  }
 ],
 "metadata": {
  "kernelspec": {
   "display_name": "Python (dojo-env)",
   "language": "python",
   "name": "dojo-env"
  },
  "language_info": {
   "codemirror_mode": {
    "name": "ipython",
    "version": 3
   },
   "file_extension": ".py",
   "mimetype": "text/x-python",
   "name": "python",
   "nbconvert_exporter": "python",
   "pygments_lexer": "ipython3",
   "version": "3.8.13"
  },
  "toc": {
   "base_numbering": 1,
   "nav_menu": {},
   "number_sections": false,
   "sideBar": true,
   "skip_h1_title": false,
   "title_cell": "Table of Contents",
   "title_sidebar": "Contents",
   "toc_cell": false,
   "toc_position": {},
   "toc_section_display": true,
   "toc_window_display": false
  }
 },
 "nbformat": 4,
 "nbformat_minor": 5
}
